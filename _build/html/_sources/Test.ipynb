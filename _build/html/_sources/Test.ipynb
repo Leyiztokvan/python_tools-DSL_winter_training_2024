{
 "cells": [
  {
   "cell_type": "markdown",
   "id": "470d9ce3-3248-4e2c-ae11-9925eeae6af5",
   "metadata": {},
   "source": [
    "This is my first markdown cell."
   ]
  },
  {
   "cell_type": "markdown",
   "id": "c6ab5c96-6743-4288-9e33-df9e2d7c0a99",
   "metadata": {},
   "source": [
    "# This my title\n",
    "This my **bold** text and here is *italic*.\n",
    "\n",
    "This is my first markdown cell,\n",
    "\n",
    "This my list: \n",
    "- first name\n",
    "- second name\n",
    "\n",
    "Here is [my_link](https://jupyter.org/)\n",
    "\n",
    "This a function:  $ \\delta = 3 * \\sum a² $"
   ]
  },
  {
   "cell_type": "markdown",
   "id": "8e34e65d-3593-48b0-8dcd-fc15f322f61f",
   "metadata": {},
   "source": [
    "### This my subtitle"
   ]
  },
  {
   "cell_type": "markdown",
   "id": "bb5fe08b-18ce-4216-8d44-92675b1c07e5",
   "metadata": {},
   "source": []
  },
  {
   "cell_type": "code",
   "execution_count": 5,
   "id": "a5886145-ac1b-4120-a120-0f845c70fb8c",
   "metadata": {},
   "outputs": [],
   "source": [
    "a = 2\n",
    "b = 6"
   ]
  },
  {
   "cell_type": "code",
   "execution_count": 6,
   "id": "4d4bc4ef-7f74-4197-8fb7-9e4682da1d9f",
   "metadata": {},
   "outputs": [],
   "source": [
    "c = a * b"
   ]
  },
  {
   "cell_type": "code",
   "execution_count": 7,
   "id": "dd0279ed-5c78-424d-9da2-cb1d6b3bbbcf",
   "metadata": {},
   "outputs": [
    {
     "data": {
      "text/plain": [
       "12"
      ]
     },
     "execution_count": 7,
     "metadata": {},
     "output_type": "execute_result"
    }
   ],
   "source": [
    "c"
   ]
  },
  {
   "cell_type": "code",
   "execution_count": 11,
   "id": "f997ee7d-e267-47d2-802d-e28e019a1ea3",
   "metadata": {},
   "outputs": [],
   "source": [
    "def myfun(a, b):\n",
    "    d = a + b \n",
    "    return d\n",
    "    "
   ]
  },
  {
   "cell_type": "raw",
   "id": "b56046f6-9368-423f-885c-b42bf917b88d",
   "metadata": {},
   "source": [
    "myfun(3,4)"
   ]
  },
  {
   "cell_type": "code",
   "execution_count": 13,
   "id": "e369355a-02db-4e8a-b600-2ad1dc805078",
   "metadata": {},
   "outputs": [],
   "source": [
    "import numpy as np"
   ]
  },
  {
   "cell_type": "code",
   "execution_count": 14,
   "id": "945c0bf1-0982-488b-83dc-ab22767927e6",
   "metadata": {},
   "outputs": [
    {
     "data": {
      "text/plain": [
       "3"
      ]
     },
     "execution_count": 14,
     "metadata": {},
     "output_type": "execute_result"
    }
   ],
   "source": [
    "np.abs(-3)"
   ]
  },
  {
   "cell_type": "code",
   "execution_count": 15,
   "id": "c5fa67e4-a990-4f85-a908-424964c30384",
   "metadata": {},
   "outputs": [],
   "source": [
    "from microfilm import colorify"
   ]
  },
  {
   "cell_type": "code",
   "execution_count": 17,
   "id": "2d0c6038-7853-448a-abad-c2f68e377efe",
   "metadata": {},
   "outputs": [
    {
     "ename": "SyntaxError",
     "evalue": "unexpected EOF while parsing (2410825528.py, line 1)",
     "output_type": "error",
     "traceback": [
      "\u001b[0;36m  Cell \u001b[0;32mIn[17], line 1\u001b[0;36m\u001b[0m\n\u001b[0;31m    colorify.combine_image(image,\u001b[0m\n\u001b[0m                                 ^\u001b[0m\n\u001b[0;31mSyntaxError\u001b[0m\u001b[0;31m:\u001b[0m unexpected EOF while parsing\n"
     ]
    }
   ],
   "source": [
    "colorify.combine_image(image, proj_type)"
   ]
  },
  {
   "cell_type": "code",
   "execution_count": null,
   "id": "0051d2b3-4f89-49d0-878e-4a8d9447f4cf",
   "metadata": {},
   "outputs": [],
   "source": []
  }
 ],
 "metadata": {
  "kernelspec": {
   "display_name": "Python 3 (ipykernel)",
   "language": "python",
   "name": "python3"
  },
  "language_info": {
   "codemirror_mode": {
    "name": "ipython",
    "version": 3
   },
   "file_extension": ".py",
   "mimetype": "text/x-python",
   "name": "python",
   "nbconvert_exporter": "python",
   "pygments_lexer": "ipython3",
   "version": "3.9.18"
  }
 },
 "nbformat": 4,
 "nbformat_minor": 5
}
